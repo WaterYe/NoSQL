{
 "cells": [
  {
   "cell_type": "code",
   "execution_count": 31,
   "source": [
    "import boto3\r\n",
    "import os\r\n",
    "import csv\r\n",
    "from dotenv import load_dotenv"
   ],
   "outputs": [],
   "metadata": {}
  },
  {
   "cell_type": "code",
   "execution_count": 32,
   "source": [
    "## load AWS credentials from env file\r\n",
    "load_dotenv()\r\n",
    "s3 = boto3.resource('s3',\r\n",
    "    aws_access_key_id = os.getenv('AWS_ACCESS_KEY_ID'),\r\n",
    "    aws_secret_access_key = os.getenv('AWS_SECRET_ACCESS_KEY')\r\n",
    ")"
   ],
   "outputs": [],
   "metadata": {}
  },
  {
   "cell_type": "code",
   "execution_count": 33,
   "source": [
    "bucket_name = 'yaow-for-cloud-infra'\r\n",
    "try:\r\n",
    "    s3.create_bucket(Bucket = bucket_name, CreateBucketConfiguration = {\r\n",
    "        'LocationConstraint': 'us-west-2'\r\n",
    "    })\r\n",
    "except Exception as e:\r\n",
    "    print(e)"
   ],
   "outputs": [],
   "metadata": {}
  },
  {
   "cell_type": "code",
   "execution_count": 34,
   "source": [
    "bucket = s3.Bucket(bucket_name)\r\n",
    "bucket.Acl().put(ACL = 'public-read')"
   ],
   "outputs": [
    {
     "output_type": "execute_result",
     "data": {
      "text/plain": [
       "{'ResponseMetadata': {'RequestId': '58S2YRFBJM87YXWN',\n",
       "  'HostId': 't7vlwtEXVuRyLpOXQvl467n90G7aZ84v1bH+grto8iFBFMQ2wybkpowlFues2XN+rwBw23ccwxU=',\n",
       "  'HTTPStatusCode': 200,\n",
       "  'HTTPHeaders': {'x-amz-id-2': 't7vlwtEXVuRyLpOXQvl467n90G7aZ84v1bH+grto8iFBFMQ2wybkpowlFues2XN+rwBw23ccwxU=',\n",
       "   'x-amz-request-id': '58S2YRFBJM87YXWN',\n",
       "   'date': 'Tue, 19 Oct 2021 06:50:23 GMT',\n",
       "   'server': 'AmazonS3',\n",
       "   'content-length': '0'},\n",
       "  'RetryAttempts': 1}}"
      ]
     },
     "metadata": {},
     "execution_count": 34
    }
   ],
   "metadata": {}
  },
  {
   "cell_type": "code",
   "execution_count": 35,
   "source": [
    "dyndb = boto3.resource('dynamodb',\r\n",
    "    region_name = 'us-west-2',\r\n",
    "    aws_access_key_id = os.getenv('AWS_ACCESS_KEY_ID'),\r\n",
    "    aws_secret_access_key = os.getenv('AWS_SECRET_ACCESS_KEY')\r\n",
    ")"
   ],
   "outputs": [],
   "metadata": {}
  },
  {
   "cell_type": "code",
   "execution_count": 78,
   "source": [
    "try:\r\n",
    "    table = dyndb.create_table(\r\n",
    "        TableName = 'DataTable',\r\n",
    "        KeySchema = [\r\n",
    "            {\r\n",
    "                'AttributeName': 'Id',\r\n",
    "                'KeyType': 'HASH'\r\n",
    "            },\r\n",
    "            {\r\n",
    "                'AttributeName': 'Temp',\r\n",
    "                'KeyType': 'RANGE'\r\n",
    "            }\r\n",
    "        ],\r\n",
    "        AttributeDefinitions = [\r\n",
    "            {\r\n",
    "                'AttributeName': 'Id',\r\n",
    "                'AttributeType': 'S'\r\n",
    "            },\r\n",
    "            {\r\n",
    "                'AttributeName': 'Temp',\r\n",
    "                'AttributeType': 'S'\r\n",
    "            },\r\n",
    "        ],\r\n",
    "        ProvisionedThroughput = {\r\n",
    "            'ReadCapacityUnits': 5,\r\n",
    "            'WriteCapacityUnits': 5\r\n",
    "        }\r\n",
    "    )\r\n",
    "except Exception as e:\r\n",
    "    print(e)"
   ],
   "outputs": [],
   "metadata": {}
  },
  {
   "cell_type": "code",
   "execution_count": 79,
   "source": [
    "print(\"Table status:\", table.table_status)"
   ],
   "outputs": [
    {
     "output_type": "stream",
     "name": "stdout",
     "text": [
      "Table status: CREATING\n"
     ]
    }
   ],
   "metadata": {}
  },
  {
   "cell_type": "code",
   "execution_count": 80,
   "source": [
    "with open('experiments.csv', 'r') as csvfile:\r\n",
    "    csvf = csv.reader(csvfile, delimiter = ',', quotechar = '|')\r\n",
    "    is_header = False\r\n",
    "    for item in csvf:\r\n",
    "        if is_header == False:\r\n",
    "            is_header = True\r\n",
    "            continue\r\n",
    "        body = open(item[4], 'rb')\r\n",
    "        s3.Object(bucket_name, item[4]).put(Body = body)\r\n",
    "        md = s3.Object(bucket_name, item[4]).Acl().put(ACL='public-read')\r\n",
    "\r\n",
    "        url = 'https://s3-us-west-2.amazonaws.com/' + bucket_name + '/' + item[4]\r\n",
    "        metadata_item = {'Id': item[0], 'Temp': item[1], \r\n",
    "                'Conductivity': item[2], 'Concentration': item[3], 'url': url}\r\n",
    "        try:\r\n",
    "            table.put_item(Item = metadata_item)\r\n",
    "        except Exception as e:\r\n",
    "            print(\"item may already be there or another failure \" + e)"
   ],
   "outputs": [
    {
     "output_type": "stream",
     "name": "stdout",
     "text": [
      "{'Id': '1', 'Temp': '-1', 'Conductivity': '52', 'Concentration': '3.4', 'url': 'https://s3-us-west-2.amazonaws.com/yaow-for-cloud-infra/exp1.csv'}\n",
      "{'Id': '2', 'Temp': '-2', 'Conductivity': '52.1', 'Concentration': '3.4', 'url': 'https://s3-us-west-2.amazonaws.com/yaow-for-cloud-infra/exp2.csv'}\n",
      "{'Id': '3', 'Temp': '-2.93', 'Conductivity': '57.1', 'Concentration': '3.7', 'url': 'https://s3-us-west-2.amazonaws.com/yaow-for-cloud-infra/exp3.csv'}\n"
     ]
    }
   ],
   "metadata": {}
  },
  {
   "cell_type": "code",
   "execution_count": 82,
   "source": [
    "response = table.get_item(\r\n",
    "    Key = {\r\n",
    "        'Id': '1',\r\n",
    "        'Temp': '-1'\r\n",
    "    }\r\n",
    ")\r\n",
    "item = response['Item']\r\n",
    "print(item)"
   ],
   "outputs": [
    {
     "output_type": "stream",
     "name": "stdout",
     "text": [
      "{'Concentration': '3.4', 'Temp': '-1', 'Id': '1', 'url': 'https://s3-us-west-2.amazonaws.com/yaow-for-cloud-infra/exp1.csv', 'Conductivity': '52'}\n"
     ]
    }
   ],
   "metadata": {}
  },
  {
   "cell_type": "code",
   "execution_count": 83,
   "source": [
    "response"
   ],
   "outputs": [
    {
     "output_type": "execute_result",
     "data": {
      "text/plain": [
       "{'Item': {'Concentration': '3.4',\n",
       "  'Temp': '-1',\n",
       "  'Id': '1',\n",
       "  'url': 'https://s3-us-west-2.amazonaws.com/yaow-for-cloud-infra/exp1.csv',\n",
       "  'Conductivity': '52'},\n",
       " 'ResponseMetadata': {'RequestId': '5MDFQH05KP4SR8QS3LJCQ9KSH7VV4KQNSO5AEMVJF66Q9ASUAAJG',\n",
       "  'HTTPStatusCode': 200,\n",
       "  'HTTPHeaders': {'server': 'Server',\n",
       "   'date': 'Tue, 19 Oct 2021 21:42:40 GMT',\n",
       "   'content-type': 'application/x-amz-json-1.0',\n",
       "   'content-length': '176',\n",
       "   'connection': 'keep-alive',\n",
       "   'x-amzn-requestid': '5MDFQH05KP4SR8QS3LJCQ9KSH7VV4KQNSO5AEMVJF66Q9ASUAAJG',\n",
       "   'x-amz-crc32': '1584997855'},\n",
       "  'RetryAttempts': 0}}"
      ]
     },
     "metadata": {},
     "execution_count": 83
    }
   ],
   "metadata": {}
  }
 ],
 "metadata": {
  "orig_nbformat": 4,
  "language_info": {
   "name": "python",
   "version": "3.6.5",
   "mimetype": "text/x-python",
   "codemirror_mode": {
    "name": "ipython",
    "version": 3
   },
   "pygments_lexer": "ipython3",
   "nbconvert_exporter": "python",
   "file_extension": ".py"
  },
  "kernelspec": {
   "name": "python3",
   "display_name": "Python 3.6.5 64-bit"
  },
  "interpreter": {
   "hash": "4bf5ffbeb8bb60b501bd370f4f30f4e42d71afa6b8bb033ca8128ca692dcec38"
  }
 },
 "nbformat": 4,
 "nbformat_minor": 2
}